{
 "cells": [
  {
   "cell_type": "markdown",
   "id": "8a3e41bb-b390-4f9c-9143-55fac66db95b",
   "metadata": {
    "tags": []
   },
   "source": [
    "# Data Science Ecosystem"
   ]
  },
  {
   "cell_type": "markdown",
   "id": "6311d9bb-6fd2-4b9d-987c-1924352ac38d",
   "metadata": {},
   "source": [
    "In this notebook, Data Science Tools and Ecosystem are summarized."
   ]
  },
  {
   "cell_type": "markdown",
   "id": "fdb753b5-e1c5-4629-a4da-ed1d3a147442",
   "metadata": {},
   "source": [
    "# Objectives:\n",
    "* Python\n",
    "* SQL\n",
    "* Java"
   ]
  },
  {
   "cell_type": "markdown",
   "id": "ccdac9e4-d02a-496c-b94f-52dfe8dfe511",
   "metadata": {},
   "source": [
    "Some of the popular languages that Data Scientists use are:\n",
    "    \n",
    "    1. Python\n",
    "    2. SQL\n",
    "    3. Java"
   ]
  },
  {
   "cell_type": "markdown",
   "id": "f51f6cc9-c5e6-4350-a2f5-1bdb22fc101b",
   "metadata": {},
   "source": [
    "Some of the commonly used libraries used by Data Scientists include:\n",
    "    \n",
    "    1.Pandas\n",
    "    2.Pytorch\n",
    "    3.TensorFlow"
   ]
  },
  {
   "cell_type": "markdown",
   "id": "5da4c2a0-7a38-485d-8084-5b55a2467c71",
   "metadata": {},
   "source": [
    "| Data Science Tools |\n",
    "----------------------\n",
    "|elasticsearch       |\n",
    "|seph                |\n",
    "|mysql               |"
   ]
  },
  {
   "cell_type": "markdown",
   "id": "0a7e063b-a8ca-4394-84c4-b4f83396e323",
   "metadata": {},
   "source": [
    "### Below are a few examples of evaluating arithmetic expressions in Python."
   ]
  },
  {
   "cell_type": "code",
   "execution_count": 16,
   "id": "f8de401a-6c5a-4af4-b974-51d6e9ac8d65",
   "metadata": {},
   "outputs": [
    {
     "data": {
      "text/plain": [
       "17"
      ]
     },
     "execution_count": 16,
     "metadata": {},
     "output_type": "execute_result"
    }
   ],
   "source": [
    "(3*4)+5\n",
    "#This a simple arithmetic expression to mutiply then add integers.\n"
   ]
  },
  {
   "cell_type": "code",
   "execution_count": 9,
   "id": "b765b18b-a74f-42eb-818a-fbc0d711e8d4",
   "metadata": {},
   "outputs": [
    {
     "data": {
      "text/plain": [
       "3.3333333333333335"
      ]
     },
     "execution_count": 9,
     "metadata": {},
     "output_type": "execute_result"
    }
   ],
   "source": [
    "# This will convert 200 minutes to hours by diving by 60.\n",
    "hours = 200/60\n",
    "hours "
   ]
  },
  {
   "cell_type": "markdown",
   "id": "68021b7e-62c7-4147-b5f1-3aba0531e2a7",
   "metadata": {},
   "source": [
    "## Author: \n",
    "Nicholas Andersen"
   ]
  },
  {
   "cell_type": "code",
   "execution_count": null,
   "id": "feb536d6-bf10-472d-b0bb-953c2730434a",
   "metadata": {},
   "outputs": [],
   "source": []
  }
 ],
 "metadata": {
  "kernelspec": {
   "display_name": "anaconda-panel-2023.05-py310",
   "language": "python",
   "name": "conda-env-anaconda-panel-2023.05-py310-py"
  },
  "language_info": {
   "codemirror_mode": {
    "name": "ipython",
    "version": 3
   },
   "file_extension": ".py",
   "mimetype": "text/x-python",
   "name": "python",
   "nbconvert_exporter": "python",
   "pygments_lexer": "ipython3",
   "version": "3.11.4"
  }
 },
 "nbformat": 4,
 "nbformat_minor": 5
}
